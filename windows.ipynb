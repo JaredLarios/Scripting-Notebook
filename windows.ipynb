{
 "cells": [
  {
   "cell_type": "markdown",
   "metadata": {},
   "source": [
    "Scripting windows with Python"
   ]
  },
  {
   "cell_type": "code",
   "execution_count": 4,
   "metadata": {},
   "outputs": [
    {
     "name": "stdout",
     "output_type": "stream",
     "text": [
      "[+] Directory:  .\\food\n",
      "[+] Subdirectory:  fruits\n",
      "[+] Subdirectory:  vegetables\n",
      "\n",
      "[+] Directory:  .\\food\\fruits\n",
      "[+] File:  banana.txt\n",
      "[+] File:  blueberry.txt\n",
      "[+] File:  strawberry.txt\n",
      "\n",
      "[+] Directory:  .\\food\\vegetables\n",
      "[+] File:  carrot.txt\n",
      "\n"
     ]
    }
   ],
   "source": [
    "import os\n",
    "root = os.path.join('.', 'food')\n",
    "for directory, subdir_list, file_list in os.walk(root):\n",
    "    print('[+] Directory: ', directory)\n",
    "    for name in subdir_list:\n",
    "        print('[+] Subdirectory: ', name)\n",
    "    for name in file_list:\n",
    "        print('[+] File: ', name)\n",
    "    print()"
   ]
  }
 ],
 "metadata": {
  "kernelspec": {
   "display_name": "env",
   "language": "python",
   "name": "python3"
  },
  "language_info": {
   "codemirror_mode": {
    "name": "ipython",
    "version": 3
   },
   "file_extension": ".py",
   "mimetype": "text/x-python",
   "name": "python",
   "nbconvert_exporter": "python",
   "pygments_lexer": "ipython3",
   "version": "3.12.2"
  }
 },
 "nbformat": 4,
 "nbformat_minor": 2
}
