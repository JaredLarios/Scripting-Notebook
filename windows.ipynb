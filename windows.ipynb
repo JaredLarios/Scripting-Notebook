{
 "cells": [
  {
   "cell_type": "markdown",
   "metadata": {},
   "source": [
    "Scripting windows with Python"
   ]
  },
  {
   "cell_type": "code",
   "execution_count": 6,
   "metadata": {},
   "outputs": [
    {
     "name": "stdout",
     "output_type": "stream",
     "text": [
      "[+] Directory:  .\\food\n",
      "[+] Subdirectory:  fruits\n",
      "[+] Subdirectory:  vegetables\n",
      "\n",
      "[+] Directory:  .\\food\\fruits\n",
      "[+] File:  2024-04-26 10.26.00.843132_banana.txt\n",
      "[+] File:  2024-04-26 10.26.00.865008_strawberry.txt\n",
      "[+] File:  2024-04-26 10.26.00.874366_blueberry.txt\n",
      "\n",
      "[+] Directory:  .\\food\\vegetables\n",
      "[+] File:  2024-04-26 10.26.00.898977_carrot.txt\n",
      "\n"
     ]
    }
   ],
   "source": [
    "import os\n",
    "root = os.path.join('.', 'food')\n",
    "\n",
    "# list directory contents\n",
    "for directory, subdir_list, file_list in os.walk(root):\n",
    "    print('[+] Directory: ', directory)\n",
    "    for name in subdir_list:\n",
    "        print('[+] Subdirectory: ', name)\n",
    "    for name in file_list:\n",
    "        print('[+] File: ', name)\n",
    "    print()"
   ]
  },
  {
   "cell_type": "code",
   "execution_count": 5,
   "metadata": {},
   "outputs": [
    {
     "name": "stdout",
     "output_type": "stream",
     "text": [
      "[+] Renaming: .\\food\\fruits\\banana.txt to: .\\food\\fruits\\2024-04-26 10.26.00.843132_banana.txt\n",
      "[+] Renaming: .\\food\\fruits\\blueberry.txt to: .\\food\\fruits\\2024-04-26 10.26.00.874366_blueberry.txt\n",
      "[+] Renaming: .\\food\\fruits\\strawberry.txt to: .\\food\\fruits\\2024-04-26 10.26.00.865008_strawberry.txt\n",
      "[+] Renaming: .\\food\\vegetables\\carrot.txt to: .\\food\\vegetables\\2024-04-26 10.26.00.898977_carrot.txt\n"
     ]
    }
   ],
   "source": [
    "import datetime\n",
    "# update filename\n",
    "for directory, subdir_list, file_list in os.walk(root):\n",
    "    for name in file_list:\n",
    "        source_name = os.path.join(directory, name)\n",
    "        timestamp = os.path.getmtime(source_name)\n",
    "        modified_date = str(\n",
    "            datetime.datetime.fromtimestamp(timestamp)).replace(':','.')\n",
    "        target_name = os.path.join(directory, f'{modified_date}_{name}')\n",
    "\n",
    "        print(f'[+] Renaming: {source_name} to: {target_name}')\n",
    "\n",
    "        os.rename(source_name, target_name)"
   ]
  },
  {
   "cell_type": "code",
   "execution_count": 2,
   "metadata": {},
   "outputs": [
    {
     "name": "stdout",
     "output_type": "stream",
     "text": [
      "[+] return value:  git version 2.34.1.windows.1\n",
      "\n"
     ]
    }
   ],
   "source": [
    "# cmdlets\n",
    "import subprocess\n",
    "\n",
    "cmd = 'git --version'\n",
    "return_value = subprocess.check_output(cmd, shell=True) # return the exit code in unix\n",
    "print('[+] return value: ', return_value.decode('utf-8'))"
   ]
  },
  {
   "cell_type": "code",
   "execution_count": 13,
   "metadata": {},
   "outputs": [
    {
     "name": "stdout",
     "output_type": "stream",
     "text": [
      "[+] return value:  v21.7.0\n",
      "\n"
     ]
    }
   ],
   "source": [
    "# check node version\n",
    "cmd = 'node -v'\n",
    "output = subprocess.check_output(cmd, shell=True)\n",
    "print('[+] node -v: ', output.decode('utf-8'))"
   ]
  },
  {
   "cell_type": "code",
   "execution_count": 15,
   "metadata": {},
   "outputs": [
    {
     "name": "stdout",
     "output_type": "stream",
     "text": [
      "[+] npm version:  9.8.1\n",
      "\n"
     ]
    }
   ],
   "source": [
    "# check npm version\n",
    "cmd = 'npm -v'\n",
    "output = subprocess.check_output(cmd, shell=True)\n",
    "print('[+] npm version: ', output.decode('utf-8'))"
   ]
  },
  {
   "cell_type": "code",
   "execution_count": 16,
   "metadata": {},
   "outputs": [
    {
     "name": "stdout",
     "output_type": "stream",
     "text": [
      "[+] npm version:  1.22.21\n",
      "\n"
     ]
    }
   ],
   "source": [
    "# check npm version\n",
    "cmd = 'yarn -v'\n",
    "output = subprocess.check_output(cmd, shell=True)\n",
    "print('[+] npm version: ', output.decode('utf-8'))"
   ]
  },
  {
   "cell_type": "code",
   "execution_count": 5,
   "metadata": {},
   "outputs": [
    {
     "name": "stdout",
     "output_type": "stream",
     "text": [
      "[+] python version:  Python 3.12.2\n",
      "\n"
     ]
    }
   ],
   "source": [
    "# python version\n",
    "cmd = 'python --version'\n",
    "output = subprocess.check_output(cmd, shell=True)\n",
    "print('[+] python version: ', output.decode('utf-8'))"
   ]
  },
  {
   "cell_type": "markdown",
   "metadata": {},
   "source": [
    "Windows integrity activation CMDLETS"
   ]
  },
  {
   "cell_type": "code",
   "execution_count": 6,
   "metadata": {},
   "outputs": [
    {
     "name": "stderr",
     "output_type": "stream",
     "text": [
      "<>:2: SyntaxWarning: invalid escape sequence '\\k'\n",
      "<>:2: SyntaxWarning: invalid escape sequence '\\k'\n",
      "C:\\Users\\Jared\\AppData\\Local\\Temp\\ipykernel_17376\\1161408975.py:2: SyntaxWarning: invalid escape sequence '\\k'\n",
      "  cmd = 'nslookup -type=srv _vlmcs._tcp >%temp%\\kms.txt'\n"
     ]
    },
    {
     "name": "stdout",
     "output_type": "stream",
     "text": [
      "[+] kms host:  \n"
     ]
    }
   ],
   "source": [
    "# kms host version\n",
    "cmd = 'nslookup -type=srv _vlmcs._tcp >%temp%\\kms.txt'\n",
    "output = subprocess.check_output(cmd, shell=True)\n",
    "print('[+] kms host: ', output.decode('utf-8'))"
   ]
  },
  {
   "cell_type": "code",
   "execution_count": 3,
   "metadata": {},
   "outputs": [],
   "source": [
    "# Key version host version\n",
    "cmd = 'slmgr /dli'\n",
    "# slmgr /upk\n",
    "# slmgr /cpky\n",
    "output = subprocess.call(cmd, shell=True)"
   ]
  },
  {
   "cell_type": "code",
   "execution_count": 17,
   "metadata": {},
   "outputs": [
    {
     "name": "stdout",
     "output_type": "stream",
     "text": [
      "[+] Desktop Name:  DESKTOP-K7T20H5\n",
      "\n"
     ]
    }
   ],
   "source": [
    "# Rename Computer\n",
    "# Rename-Computer -NewName \"<NuevoNombre>\" -Restart\n",
    "import subprocess\n",
    "cmd = \"powershell Invoke-Expression -Command 'hostname'\"\n",
    "output = subprocess.check_output(cmd, shell=True)\n",
    "print('[+] Desktop Name: ', output.decode('utf-8'))"
   ]
  }
 ],
 "metadata": {
  "kernelspec": {
   "display_name": "env",
   "language": "python",
   "name": "python3"
  },
  "language_info": {
   "codemirror_mode": {
    "name": "ipython",
    "version": 3
   },
   "file_extension": ".py",
   "mimetype": "text/x-python",
   "name": "python",
   "nbconvert_exporter": "python",
   "pygments_lexer": "ipython3",
   "version": "3.12.2"
  }
 },
 "nbformat": 4,
 "nbformat_minor": 2
}
